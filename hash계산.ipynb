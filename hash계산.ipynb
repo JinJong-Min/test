{
 "cells": [
  {
   "cell_type": "code",
   "execution_count": 56,
   "metadata": {},
   "outputs": [
    {
     "name": "stdout",
     "output_type": "stream",
     "text": [
      "['c:\\\\target\\\\2020-9666-2-SM-A315N.mdf', 'c:\\\\target\\\\2020-9666-2-SM-A315N3 - 복사본 (2).mdf', 'c:\\\\target\\\\2020-9666-2-SM-A315N3 - 복사본 (3).mdf', 'c:\\\\target\\\\2020-9666-2-SM-A315N3 - 복사본.mdf', 'c:\\\\target\\\\2020-9666-2-SM-A315N3.mdf', 'c:\\\\target\\\\2020-9666-2-SM-A315N_2.mdf', 'c:\\\\target\\\\2020-9666-2-SM-A315N_4.mdf', 'c:\\\\target\\\\2020-9666-2-SM-A315N_5.mdf']\n"
     ]
    },
    {
     "data": {
      "application/vnd.jupyter.widget-view+json": {
       "model_id": "bb470fc6933946a9be6ecb385a62bd86",
       "version_major": 2,
       "version_minor": 0
      },
      "text/plain": [
       "HBox(children=(HTML(value=''), FloatProgress(value=0.0, max=8.0), HTML(value='')))"
      ]
     },
     "metadata": {},
     "output_type": "display_data"
    },
    {
     "name": "stdout",
     "output_type": "stream",
     "text": [
      "c:\\target\\2020-9666-2-SM-A315N.mdf      72a799545a2b89002a39d79da0ebb19\n",
      "c:\\target\\2020-9666-2-SM-A315N3 - 복사본 (2).mdf      72a799545a2b89002a39d79da0ebb19\n",
      "c:\\target\\2020-9666-2-SM-A315N3 - 복사본 (3).mdf      72a799545a2b89002a39d79da0ebb19\n",
      "c:\\target\\2020-9666-2-SM-A315N3 - 복사본.mdf      72a799545a2b89002a39d79da0ebb19\n",
      "c:\\target\\2020-9666-2-SM-A315N3.mdf      72a799545a2b89002a39d79da0ebb19\n",
      "c:\\target\\2020-9666-2-SM-A315N_2.mdf      72a799545a2b89002a39d79da0ebb19\n",
      "c:\\target\\2020-9666-2-SM-A315N_4.mdf      72a799545a2b89002a39d79da0ebb19\n",
      "c:\\target\\2020-9666-2-SM-A315N_5.mdf      72a799545a2b89002a39d79da0ebb19\n",
      "\n",
      "[['c:\\\\target\\\\2020-9666-2-SM-A315N.mdf', '72a799545a2b89002a39d79da0ebb19\\r'], ['c:\\\\target\\\\2020-9666-2-SM-A315N3 - 복사본 (2).mdf', '72a799545a2b89002a39d79da0ebb19\\r'], ['c:\\\\target\\\\2020-9666-2-SM-A315N3 - 복사본 (3).mdf', '72a799545a2b89002a39d79da0ebb19\\r'], ['c:\\\\target\\\\2020-9666-2-SM-A315N3 - 복사본.mdf', '72a799545a2b89002a39d79da0ebb19\\r'], ['c:\\\\target\\\\2020-9666-2-SM-A315N3.mdf', '72a799545a2b89002a39d79da0ebb19\\r'], ['c:\\\\target\\\\2020-9666-2-SM-A315N_2.mdf', '72a799545a2b89002a39d79da0ebb19\\r'], ['c:\\\\target\\\\2020-9666-2-SM-A315N_4.mdf', '72a799545a2b89002a39d79da0ebb19\\r'], ['c:\\\\target\\\\2020-9666-2-SM-A315N_5.mdf', '72a799545a2b89002a39d79da0ebb19\\r']]\n"
     ]
    }
   ],
   "source": [
    "import os\n",
    "import tqdm\n",
    "import pandas as pd\n",
    "import subprocess\n",
    "#os.system('cd {}'.format(os.getcwd()))\n",
    "\n",
    "target=\"c:\\\\target\"\n",
    "current_dir = target\n",
    "target_ext = ['.mef','.dd','.e01','.mdf']\n",
    "\n",
    "\n",
    "os.chdir(current_dir)\n",
    "\n",
    "def search(dirname, extension):\n",
    "    full_filename = []\n",
    "    for (path, dir, files) in os.walk(dirname):\n",
    "        for filename in files:\n",
    "            ext = os.path.splitext(filename)[-1]\n",
    "            if ext == extension:\n",
    "                full_filename.append(os.path.join(path,filename))\n",
    "                #print(full_filename)\n",
    "    return full_filename\n",
    "\n",
    "lists = []\n",
    "\n",
    "for ext in target_ext:\n",
    "    list = search(os.path.join(target),ext)\n",
    "    if list:\n",
    "        lists = lists + list\n",
    "\n",
    "print(lists)\n",
    "    \n",
    "hash_list =[]\n",
    "\n",
    "with tqdm.notebook.tqdm(range(len(list)),unit_divisor=800) as pbar:\n",
    "\n",
    "    for file in lists:\n",
    "        \n",
    "        output = subprocess.Popen([\"C:\\\\Users\\\\jjm223\\Downloads\\\\FTKImager.3.1.1_win32\\\\ftkimager\\\\ftkimager.exe\",\"--verify\", \"--no-sha1\", file],stdout=subprocess.PIPE)\n",
    "        stdout = output.communicate()               \n",
    "        md5 = stdout[0].decode()[-33:].rstrip('\\n')\n",
    "        \n",
    "        print(file,\"    \",md5)\n",
    "        \n",
    "        line = []\n",
    "        line.append(file)\n",
    "        line.append(md5)\n",
    "        hash_list.append(line)\n",
    "        pbar.set_postfix(file=os.path.basename(file), refresh=False)\n",
    "        pbar.update(1)\n",
    "    \n",
    "\n",
    "\n",
    "df=pd.DataFrame(hash_list)\n",
    "df.columns = ['경로','MD5']\n",
    "df.to_excel(\"hash_list.xlsx\")\n",
    "    \n",
    "print(hash_list)\n"
   ]
  }
 ],
 "metadata": {
  "kernelspec": {
   "display_name": "Python 3",
   "language": "python",
   "name": "python3"
  },
  "language_info": {
   "codemirror_mode": {
    "name": "ipython",
    "version": 3
   },
   "file_extension": ".py",
   "mimetype": "text/x-python",
   "name": "python",
   "nbconvert_exporter": "python",
   "pygments_lexer": "ipython3",
   "version": "3.8.5"
  }
 },
 "nbformat": 4,
 "nbformat_minor": 4
}
